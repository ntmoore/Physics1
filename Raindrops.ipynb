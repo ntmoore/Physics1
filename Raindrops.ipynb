{
 "cells": [
  {
   "cell_type": "markdown",
   "metadata": {},
   "source": [
    "**What's the terminal velocity of a raindrop?**  \n",
    "Nathan Moore, Winona State University\n",
    "\n",
    "This is a \"juypter notebook\" which is essentially a python program with \"markdown\" text output.  Its something like a Mathematica notebookor Matlab program, but free. For an intro, see https://swcarpentry.github.io/python-novice-gapminder/01-run-quit/"
   ]
  },
  {
   "cell_type": "code",
   "execution_count": 1,
   "metadata": {
    "collapsed": true
   },
   "outputs": [],
   "source": [
    "# These are some libraries I'm going to use\n",
    "from math import *\n",
    "import matplotlib.pyplot as plt"
   ]
  },
  {
   "cell_type": "markdown",
   "metadata": {},
   "source": [
    "Here are a few raindrop assumptions:"
   ]
  },
  {
   "cell_type": "code",
   "execution_count": 11,
   "metadata": {
    "collapsed": false
   },
   "outputs": [
    {
     "name": "stdout",
     "output_type": "stream",
     "text": [
      "our raindrop has radius, r =  1.0 mm\n",
      "this raindrop has volume, v =  4.1887902047863905 mm^3\n",
      "this raindrop has mass, m =  0.0041887902047863905 grams\n"
     ]
    }
   ],
   "source": [
    "d=1.0 # water density, grams/cm^3\n",
    "r=1.0 # radius, in mm\n",
    "v=(4.0/3.0)*pi*radius**3 # volume, in mm^3\n",
    "print(\"our raindrop has radius, r = \",radius,\"mm\")\n",
    "print(\"this raindrop has volume, v = \", volume, \"mm^3\")\n",
    "# note, to find mass, grams/cm^3) * (mm^3) *(1cm/10mm)^3 to make the units work\n",
    "m = v*d*(1.0/(10.0**3)) # mass (grams)\n",
    "print(\"this raindrop has mass, m = \",m,\"grams\")"
   ]
  },
  {
   "cell_type": "markdown",
   "metadata": {},
   "source": [
    "Rain falls from clouds, and is subject to two main forces, a weight, $W=mg$, (gravitational attraction from the earth) and a drag force from the air molecules it runs into as it moves, $F_D$.  For sufficiently large raindrops, we can model for drag force with the following term. \n",
    "\n",
    "$F_D=0.5 C d A v^2$,\n",
    "\n",
    "where $C=0.45$ for a sphere, $d=1.2kg/m^3$ is the density of air, $A=\\pi r^2$ is the cross sectional area of the raindrop, and $v$ is the raindrop's speed.  \n",
    "\n",
    "As the drop falls, it gains momentum because of the downward pull of the earth.  As the drop accelerates, the speed increases, and so does the drag force.  Eventually, the weight force from the earth and the drag force from the atmosphere equilibrate, and the drop reaches its *terminal velocity*, $v_T$, which can be computed by equating the two interactions.\n",
    "\n",
    "$mg = 0.5 C d A (v_T)^2$\n",
    "\n",
    "Or,\n",
    "\n",
    "$v_T = \\left[ \\frac{2 m g}{C d A} \\right]^{0.5}$.\n",
    "\n",
    "Now, algebraically, $m=Volume*density_{water}=\\frac{4}{3} \\pi r^3 d_{w}$, and $A=\\pi r^2$, so, the terminal velocity can be expressed as,\n",
    "\n",
    "$v_T = \\left[ \\frac{2 \\frac{4}{3} \\pi r^3 d_{water} g}{C d_{air} \\pi r^2} \\right]^{0.5} = \\left[ \\frac{ 2 r g}{3C}\\frac{ d_{water} }{ d_{air} } \\right]^{0.5}$\n",
    "\n",
    "Recall that the drag coefficient, $C=0.45$ has no units.  The other units in the terminal velocity expression are mixed and we'll have to work them out to plot the terminal speed.\n",
    "\n",
    "$v_T = \\left[ \\frac{ 2 (1mm) (9.8m/s^2)}{3C}\\frac{ 1 grams/cm^3 }{  1.2 kg/m^3 } \\right]^{0.5}$\n"
   ]
  },
  {
   "cell_type": "markdown",
   "metadata": {},
   "source": [
    "So then, at $r=1mm$ to make the conversions explicit:\n",
    "\n",
    "$v_T = \\left[ \\frac{ 2 (1mm) (9.8m/s^2)~\\frac{1m}{1000mm}}{3C} \\frac{ 1 grams/cm^3 ~ \\left(\\frac{100cm}{1m}\\right)^3 \\frac{1kg}{1000g} }{  1.2 kg/m^3 } \\right]^{0.5}$"
   ]
  },
  {
   "cell_type": "code",
   "execution_count": 13,
   "metadata": {
    "collapsed": false
   },
   "outputs": [
    {
     "name": "stdout",
     "output_type": "stream",
     "text": [
      "estimated terminal velocity for a r =  1  mm raindrop is  3.478327964999673 m/s\n"
     ]
    }
   ],
   "source": [
    "g=9.8\n",
    "C=0.45\n",
    "r=1 # in mm\n",
    "dw=1 # grams/cm^3\n",
    "da=1.2 #  kg/m^3\n",
    "v_T_sqr=(2*r*g/(3*C*1000))*(dw*100**3/(1000*da))\n",
    "v_T=sqrt(v_T_sqr)\n",
    "print(\"estimated terminal velocity for a r = \",r,\" mm raindrop is \",v_T,\"m/s\")"
   ]
  },
  {
   "cell_type": "markdown",
   "metadata": {},
   "source": [
    "Ok, so now that we have an expression that seems to work, we'll make a plot that shows the terminal speed as a function of the raindrop size."
   ]
  },
  {
   "cell_type": "code",
   "execution_count": 21,
   "metadata": {
    "collapsed": false
   },
   "outputs": [],
   "source": [
    "# plots require a list of points to plot\n",
    "list_of_r=[] # list of radaii, in mm\n",
    "list_of_v=[] # list of terminal velocities, in m/s\n",
    "\n",
    "# this is a for (or for-each) loop.  It repeats the lines below with \n",
    "# i=0, i=1, i=2 ... up to but not including i=30\n",
    "for i in range(30):\n",
    "    # this is the repeated commands tat the forloop runs\n",
    "    \n",
    "    # vary the radius (in mm, incremented by 0.05mm steps)\n",
    "    r=0.5+i*0.5\n",
    "    #print(i,r)\n",
    "    \n",
    "    # save this loop's radius in a list\n",
    "    list_of_r.append(r)\n",
    "    \n",
    "    # using the code above, compute the terminal velocity at this radius\n",
    "    # note that we're using C,g,dw,da defined above\n",
    "    v_T_sqr=(2*r*g/(3*C*1000))*(dw*100**3/(1000*da))\n",
    "    v_T=sqrt(v_T_sqr)\n",
    "    # and save this value as well\n",
    "    list_of_v.append(v_T)\n",
    "\n",
    "# end of tabbed in section means the loop is over"
   ]
  },
  {
   "cell_type": "code",
   "execution_count": 24,
   "metadata": {
    "collapsed": false
   },
   "outputs": [
    {
     "data": {
      "image/png": "[encoded data removed]",
      "text/plain": [
       "<matplotlib.figure.Figure at 0x5666b4dc88>"
      ]
     },
     "metadata": {},
     "output_type": "display_data"
    }
   ],
   "source": [
    "# now, make a plot\n",
    "plt.plot(list_of_r,list_of_v)\n",
    "plt.ylabel(\"terminal velocity, $v_T$, (m/s)\")\n",
    "plt.xlabel(\"raindrop radius, $r$, (mm)\")\n",
    "plt.title(\"Terminal velocity of a raindrop, using $v^2$ drag force\")\n",
    "plt.show()"
   ]
  },
  {
   "cell_type": "code",
   "execution_count": null,
   "metadata": {
    "collapsed": true
   },
   "outputs": [],
   "source": []
  }
 ],
 "metadata": {
  "kernelspec": {
   "display_name": "Python [conda root]",
   "language": "python",
   "name": "conda-root-py"
  },
  "language_info": {
   "codemirror_mode": {
    "name": "ipython",
    "version": 3
   },
   "file_extension": ".py",
   "mimetype": "text/x-python",
   "name": "python",
   "nbconvert_exporter": "python",
   "pygments_lexer": "ipython3",
   "version": "3.5.2"
  }
 },
 "nbformat": 4,
 "nbformat_minor": 2
}
