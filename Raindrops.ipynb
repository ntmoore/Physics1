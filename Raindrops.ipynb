{
 "cells": [
  {
   "cell_type": "markdown",
   "metadata": {},
   "source": [
    "# What's the terminal velocity of a raindrop? \n",
    "Nathan Moore, Winona State University\n",
    "\n",
    "This is a \"juypter notebook\" which is essentially a python program with \"markdown\" text output.  Its something like a Mathematica notebook or Matlab program, but free. For an intro, see https://swcarpentry.github.io/python-novice-gapminder/01-run-quit/"
   ]
  },
  {
   "cell_type": "code",
   "execution_count": 1,
   "metadata": {
    "collapsed": true
   },
   "outputs": [],
   "source": [
    "# These are some libraries I'm going to use\n",
    "from math import *\n",
    "import matplotlib.pyplot as plt"
   ]
  },
  {
   "cell_type": "markdown",
   "metadata": {},
   "source": [
    "Here are a few raindrop assumptions:"
   ]
  },
  {
   "cell_type": "code",
   "execution_count": 2,
   "metadata": {
    "collapsed": false
   },
   "outputs": [
    {
     "name": "stdout",
     "output_type": "stream",
     "text": [
      "our raindrop has radius, r =  1.0 mm\n",
      "this raindrop has volume, v =  4.1887902047863905 mm^3\n",
      "this raindrop has mass, m =  0.0041887902047863905 grams\n"
     ]
    }
   ],
   "source": [
    "d=1.0 # water density, grams/cm^3\n",
    "r=1.0 # radius, in mm\n",
    "vol=(4.0/3.0)*pi*r**3 # volume, in mm^3, note 2**3 = 2^3 = 8\n",
    "print(\"our raindrop has radius, r = \",r,\"mm\")\n",
    "print(\"this raindrop has volume, v = \", vol, \"mm^3\")\n",
    "# note, to find mass, (mm^3) * (grams/cm^3) *(1cm/10mm)^3 to make the units work\n",
    "m = vol*d*(1.0/(10.0**3)) # mass (grams)\n",
    "print(\"this raindrop has mass, m = \",m,\"grams\")"
   ]
  },
  {
   "cell_type": "markdown",
   "metadata": {},
   "source": [
    "Rain falls from clouds, and is subject to two main forces, weight, $W=mg$, (gravitational attraction from the earth), and a drag force from the air molecules it runs into as it moves, $F_D$.  For sufficiently large raindrops, we can model for drag force with the following term. \n",
    "\n",
    "$F_D=0.5 C d A v^2$,\n",
    "\n",
    "where $C=0.45$ for a sphere, $d=1.2kg/m^3$ is the density of air, $A=\\pi r^2$ is the cross sectional area of the raindrop, and $v$ is the raindrop's speed.  \n",
    "\n",
    "As the drop falls, it gains momentum because of the downward pull of the earth.  As the drop accelerates, the speed increases, and so does the drag force.  Eventually, the weight force from the earth and the drag force from the atmosphere equilibrate, and the drop reaches its *terminal velocity*, $v_T$, which can be computed by equating the two interactions.\n",
    "\n",
    "$mg = 0.5 C d A (v_T)^2$\n",
    "\n",
    "Or,\n",
    "\n",
    "$v_T = \\left[ \\frac{2 m g}{C d A} \\right]^{0.5}$."
   ]
  },
  {
   "cell_type": "markdown",
   "metadata": {},
   "source": [
    "Now, algebraically, $m=Volume*density_{water}=\\frac{4}{3} \\pi r^3 d_{w}$, and $A=\\pi r^2$, so, the terminal velocity can be expressed as,\n",
    "\n",
    "$v_T = \\left[ \\frac{2 \\left(\\frac{4}{3} \\pi r^3 d_{water}\\right) ~g}{C d_{air} \\pi r^2} \\right]^{0.5} \n",
    "= \\left[ \\frac{ 8 r g}{3C}\\frac{ d_{water} }{ d_{air} } \\right]^{0.5}$"
   ]
  },
  {
   "cell_type": "markdown",
   "metadata": {},
   "source": [
    "Recall that the drag coefficient, $C=0.45$ has no units.  The other units in the terminal velocity expression are mixed and we'll have to work them out to plot the terminal speed. Here's a version with mixed units: \n",
    "\n",
    "$v_T = \\left[ \\frac{ 2 (1mm) (9.8m/s^2)}{3C}\\frac{ 1 grams/cm^3 }{  1.2 kg/m^3 } \\right]^{0.5}$"
   ]
  },
  {
   "cell_type": "markdown",
   "metadata": {},
   "source": [
    "Here's a version of the same expression with explicit unit conversions included.\n",
    "\n",
    "$v_T = \\left[ \\frac{ 8 (1mm) (9.8m/s^2)~ \\left(\\frac{1m}{1000mm}\\right) }{3C} \n",
    "\\frac{ 1 grams/cm^3 ~ \\left(\\frac{100cm}{1m}\\right)^3 \\frac{1kg}{1000g} }{  1.2 kg/m^3 } \\right]^{0.5}$"
   ]
  },
  {
   "cell_type": "code",
   "execution_count": 3,
   "metadata": {
    "collapsed": false
   },
   "outputs": [
    {
     "name": "stdout",
     "output_type": "stream",
     "text": [
      "estimated terminal velocity for a r =  1  mm raindrop is  6.956655929999346 m/s\n"
     ]
    }
   ],
   "source": [
    "g=9.8\n",
    "C=0.45\n",
    "r=1 # in mm\n",
    "dw=1 # grams/cm^3\n",
    "da=1.2 #  kg/m^3\n",
    "v_T_sqr=(8*r*g/(3*C*1000))*(dw*100**3/(1000*da))\n",
    "v_T=sqrt(v_T_sqr)\n",
    "print(\"estimated terminal velocity for a r = \",r,\" mm raindrop is \",v_T,\"m/s\")"
   ]
  },
  {
   "cell_type": "markdown",
   "metadata": {},
   "source": [
    "Ok, so now that we have an expression that seems to work, we'll make a plot that shows the terminal speed as a function of the raindrop size."
   ]
  },
  {
   "cell_type": "code",
   "execution_count": 15,
   "metadata": {
    "collapsed": false
   },
   "outputs": [],
   "source": [
    "# plots require a list of points to plot\n",
    "list_of_r=[] # list of radaii, in mm\n",
    "list_of_v=[] # list of terminal velocities, in m/s\n",
    "\n",
    "# this is a for (or for-each) loop.  It repeats the lines below with \n",
    "# i=0, i=1, i=2 ... up to but not including i=30\n",
    "for i in range(30):\n",
    "    # this is the repeated commands tat the forloop runs\n",
    "    \n",
    "    # vary the radius (in mm, incremented by 0.1mm steps)\n",
    "    r=0.1+i*0.1\n",
    "    #print(i,r)\n",
    "    \n",
    "    # save this loop's radius in a list\n",
    "    list_of_r.append(r)\n",
    "    \n",
    "    # using the code above, compute the terminal velocity at this radius\n",
    "    # note that we're using C,g,dw,da defined above\n",
    "    v_T_sqr=(8*r*g/(3*C*1000))*(dw*100**3/(1000*da))\n",
    "    v_T=sqrt(v_T_sqr)\n",
    "    # and save this value as well\n",
    "    list_of_v.append(v_T)\n",
    "\n",
    "# end of tabbed in section means the loop is over"
   ]
  },
  {
   "cell_type": "code",
   "execution_count": 16,
   "metadata": {
    "collapsed": false,
    "scrolled": true
   },
   "outputs": [
    {
     "data": {
      "image/png": "[encoded data removed]",
      "text/plain": [
       "<matplotlib.figure.Figure at 0x4db8ee0438>"
      ]
     },
     "metadata": {},
     "output_type": "display_data"
    }
   ],
   "source": [
    "# now, make a plot\n",
    "plt.plot(list_of_r,list_of_v)\n",
    "plt.ylabel(\"terminal velocity, $v_T$, (m/s)\")\n",
    "plt.xlabel(\"raindrop radius, $r$, (mm)\")\n",
    "plt.title(\"Terminal velocity of a raindrop, using $v^2$ drag force\")\n",
    "plt.show()"
   ]
  },
  {
   "cell_type": "markdown",
   "metadata": {
    "collapsed": true
   },
   "source": [
    "Note, the internet tells me that most raindrops are 4mm diameter (2mm radius) or smaller.  https://water.usgs.gov/edu/raindropsizes.html\n",
    "\n",
    "See also, figure 3 in `http://journals.ametsoc.org/doi/pdf/10.1175/1520-0477(2001)082<1169%3AWIARSD>2.3.CO%3B2`\n"
   ]
  },
  {
   "cell_type": "markdown",
   "metadata": {
    "collapsed": true
   },
   "source": [
    "# How much pressure does a raindrop exert on the ground?\n",
    "\n",
    "A moving raindrop comes to a stop when it hits the ground because there's a contact interaction between the rain and the ground.  I've heard that erosion is caused by wind and water, so let's investigate this with an estimate.  How big is the stopping force or pressure that exists between the raindrop and the ground?\n",
    "\n",
    "Before hitting the ground, the raindrop has a downward (terminal) velocity and a corresponding downward momentum.  The ground exerts an external force on the raindrop for a length of time, and the momentum disappears.  Mathematically, \n",
    "\n",
    "$P_1=mv_T$ and $P_2=0$ because $P_2-P_1=F_{external}~\\Delta t$.\n",
    "\n",
    "How long does it take the raindrop to splash?  Some engineers at Harvard recently investigated how Mosquitoes survive rainstorms (their conclusion, rain isn't a big deal for Mosquitoes).  In the course of that paper, they estimated that the raindrop-Mosquito interaction time is about 1ms. Here's the paper, http://www.pnas.org/content/109/25/9822.full\n",
    "\n",
    "So then, we can estimate the raindrop-ground force as,\n",
    "\n",
    "$F=\\frac{m~v_T}{\\Delta T}$."
   ]
  },
  {
   "cell_type": "markdown",
   "metadata": {},
   "source": [
    "Again, remember from above that:\n",
    "\n",
    "$m=\\frac{4}{3} \\pi r^3 d_{w}$ and $v_T = \\left[ \\frac{ 8 r g}{3C}\\frac{ d_{water} }{ d_{air} } \\right]^{0.5}$\n",
    "\n",
    "We could combine these into a single formula, but I don't think the resulting expression is particularly informative.  Instead, remember that the stopping force is spread over the ground, making a pressure, $P=F/A$.  The simplest estimate for the relevant area is that the force is spread over is the cross-sectional area of the raindrop, $A=\\pi r^2$.  This gives an expression for raindrop pressure,\n",
    "\n",
    "$P=\\frac{F}{A}=\\frac{m~v_T}{\\Delta T~\\left(\\pi r^2\\right)}=\n",
    "\\frac{\\left(\\frac{4}{3} \\pi r^3 d_{w}\\right)~v_T}{\\Delta T~\\pi r^2} =\n",
    "\\frac{4  ~r ~d_{w}~v_T}{3 ~\\Delta T}$\n",
    "\n",
    "$P=\\frac{4  ~r ~d_{w}}{3 ~\\Delta T} \\left[ \\frac{ 8 r g}{3C}\\frac{ d_{water} }{ d_{air} } \\right]^{0.5}$\n"
   ]
  },
  {
   "cell_type": "markdown",
   "metadata": {},
   "source": [
    "The units are again mixed up.  A different way to resolve this is to have two sets of variables in python code - one that you use in the measurement (eg $r=1mm$), and another in standard mks units that you use in the calculation."
   ]
  },
  {
   "cell_type": "code",
   "execution_count": 17,
   "metadata": {
    "collapsed": false
   },
   "outputs": [
    {
     "name": "stdout",
     "output_type": "stream",
     "text": [
      "Inputs:\n",
      "raindrop radius r =  0.001  m \n",
      "impact time dt =  0.001  s\n",
      "water density d_w =  1000.0  kg/m^3\n",
      "air density d_air =  1.2  kg/m^3\n",
      "Spherical drag coefficient, C =  0.45\n",
      "g =  9.8\n",
      "Computed pressure, P =  9275.541239999127 Newtons/m^2\n",
      "Computed pressure, P =  1.34530298951655 psi\n"
     ]
    }
   ],
   "source": [
    "delta_T_ms = 1 # ms\n",
    "delta_T = delta_T_ms*(1.0/1000.0) # seconds\n",
    "#\n",
    "r_mm = 1 # mm\n",
    "r = r_mm*(1.0/1000.0) # meters  \n",
    "#\n",
    "d_w_gpcm3 = 1 # grams per cm^3\n",
    "d_w = d_w_gpcm3*(1.0/1000.0)*(100.0/1.0)**3 # kg/m^3\n",
    "#\n",
    "d_air = 1.2 # kg/m^3$\n",
    "C = 0.45\n",
    "g = 9.8 # m/s^2\n",
    "P=(4.0*r*d_w/(3.0*delta_T))*(8.0*r*g*d_w/(3*C*d_air))**0.5\n",
    "# echoing out all of the calculation parameters as a check of the unit conversions \n",
    "print(\"Inputs:\")\n",
    "print(\"raindrop radius r = \",r,\" m \")\n",
    "print(\"impact time dt = \",delta_T,\" s\")\n",
    "print(\"water density d_w = \",d_w,\" kg/m^3\")\n",
    "print(\"air density d_air = \",d_air,\" kg/m^3\")\n",
    "print(\"Spherical drag coefficient, C = \",C)\n",
    "print(\"g = \",g)\n",
    "print(\"Computed pressure, P = \",P,\"Newtons/m^2\")\n",
    "# note, Newtons/m^2 is a \"Pascal (Pa)\", and 6894.76Pa = 1psi\n",
    "P_psi = P*(1.0/6894.76)\n",
    "print(\"Computed pressure, P = \",P_psi,\"psi\")"
   ]
  },
  {
   "cell_type": "markdown",
   "metadata": {
    "collapsed": true
   },
   "source": [
    "So, how does the Pressure depend on raindrop size? We'll use the looping structure from above."
   ]
  },
  {
   "cell_type": "code",
   "execution_count": 19,
   "metadata": {
    "collapsed": true
   },
   "outputs": [],
   "source": [
    "# plots require a list of points to plot\n",
    "list_of_r=[] # list of radaii, in mm\n",
    "list_of_p=[] # list of pressures, in psi\n",
    "\n",
    "# this is a for (or for-each) loop.  It repeats the lines below with \n",
    "# i=0, i=1, i=2 ... up to but not including i=30\n",
    "for i in range(30):\n",
    "    # this is the repeated commands tat the forloop runs\n",
    "    \n",
    "    # vary the radius (in mm, incremented by 0.1mm steps)\n",
    "    r_mm=0.1+i*0.1\n",
    "    #print(i,r)\n",
    "    \n",
    "    # save this loop's radius in a list\n",
    "    list_of_r.append(r_mm)\n",
    "    \n",
    "    # convert the radius to (standard) units of m\n",
    "    r = r_mm*(1.0/1000.0) # meters  \n",
    "\n",
    "    # using the code above, compute the terminal velocity at this radius\n",
    "    # note that we're using C,g,dw,da defined above\n",
    "    P=(4.0*r*d_w/(3.0*delta_T))*(8.0*r*g*d_w/(3*C*d_air))**0.5\n",
    "    P_psi = P_psi = P*(1.0/6894.76)\n",
    "    # and save this value as well\n",
    "    list_of_p.append(P_psi)\n",
    "\n",
    "# end of tabbed in section means the loop is over"
   ]
  },
  {
   "cell_type": "code",
   "execution_count": 31,
   "metadata": {
    "collapsed": false
   },
   "outputs": [
    {
     "data": {
      "image/png": "[encoded data removed]",
      "text/plain": [
       "<matplotlib.figure.Figure at 0x4db8f957b8>"
      ]
     },
     "metadata": {},
     "output_type": "display_data"
    }
   ],
   "source": [
    "# now, make a plot\n",
    "p_atm=14.69 #atmospheric pressure (psi)\n",
    "plt.plot(list_of_r,list_of_p,label=\"Raindrop Pressure\")\n",
    "plt.plot([0,4],[p_atm/2,p_atm/2],label=\"0.5 atm=7.35 psi\")\n",
    "plt.plot([0,4],[p_atm/4,p_atm/4],label=\"0.25 atm=1.84 psi\")\n",
    "plt.ylabel(\"raindrop pressure, (psi)\")\n",
    "plt.xlabel(\"raindrop radius, $r$, (mm)\")\n",
    "plt.title(\"Pressure a raindrop exerts on the ground\")\n",
    "plt.legend()\n",
    "plt.show()"
   ]
  },
  {
   "cell_type": "markdown",
   "metadata": {},
   "source": [
    "**Caveats**\n",
    "1. To find the terminal velocity of the raindrop, I assumed the drag force is quadratic in speed, $F\\approx b v^2$.\n",
    "2. I assumed constant air density of $1.2kg/m^3$.  Air pressure (and density) change with elevation and weather pattern.\n",
    "3. I assumed that the raindrop-ground collision takes $1ms$.\n",
    "4. I assumed that the raindrop collision was spread over the raindrop's cross-sectional area, $A=\\pi r^2$.\n",
    "5. Literature suggests that raindrops are roughly $r=0.2mm$ or smaller, so the horizontal scale of my graph is somewhat exaggerated.\n"
   ]
  },
  {
   "cell_type": "markdown",
   "metadata": {},
   "source": [
    "# What force does the raindrop exert on the ground?\n",
    " Recall that earlier, we estimated the raindrop-ground force as,\n",
    "\n",
    "$F=\\frac{m~v_T}{\\Delta T}$.\n",
    "\n",
    "Again, remember from above that:\n",
    "\n",
    "$m=\\frac{4}{3} \\pi r^3 d_{w}$ and $v_T = \\left[ \\frac{ 8 r g}{3C}\\frac{ d_{water} }{ d_{air} } \\right]^{0.5}$\n",
    "\n",
    "What does a plot of this look like?"
   ]
  },
  {
   "cell_type": "code",
   "execution_count": 24,
   "metadata": {
    "collapsed": true
   },
   "outputs": [],
   "source": [
    "#redefine constants so that this code can be stand-alone\n",
    "delta_T_ms = 1 # ms\n",
    "delta_T = delta_T_ms*(1.0/1000.0) # seconds\n",
    "#\n",
    "d_w_gpcm3 = 1 # grams per cm^3\n",
    "d_w = d_w_gpcm3*(1.0/1000.0)*(100.0/1.0)**3 # kg/m^3\n",
    "#\n",
    "d_air = 1.2 # kg/m^3$\n",
    "C = 0.45\n",
    "g = 9.8 # m/s^2\n",
    "\n",
    "# plots require a list of points to plot\n",
    "list_of_r=[] # list of radaii, in mm\n",
    "list_of_f=[] # list of forces, in N\n",
    "\n",
    "# this is a for (or for-each) loop.  It repeats the lines below with \n",
    "# i=0, i=1, i=2 ... up to but not including i=30\n",
    "for i in range(30):\n",
    "    # this is the repeated commands tat the forloop runs\n",
    "    \n",
    "    # vary the radius (in mm, incremented by 0.1mm steps)\n",
    "    r_mm=0.1+i*0.1\n",
    "    #print(i,r)\n",
    "    \n",
    "    # save this loop's radius in a list\n",
    "    list_of_r.append(r_mm)\n",
    "    \n",
    "    # convert the radius to (standard) units of m\n",
    "    r = r_mm*(1.0/1000.0) # meters  \n",
    "\n",
    "    # mass, in kg\n",
    "    m=(4.0/3.0)*pi*(r**3)*d_w\n",
    "   \n",
    "    # terminal velocity\n",
    "    v_T=(8.0*r*g*d_w/(3*C*d_air))**0.5\n",
    "    \n",
    "    # force, N\n",
    "    F=m*v_T/delta_T\n",
    "    list_of_f.append(F)\n",
    "    \n",
    "# end of tabbed in section means the loop is over"
   ]
  },
  {
   "cell_type": "code",
   "execution_count": 32,
   "metadata": {
    "collapsed": false
   },
   "outputs": [
    {
     "data": {
      "image/png": "[encoded data removed]",
      "text/plain": [
       "<matplotlib.figure.Figure at 0x4db7b6f5c0>"
      ]
     },
     "metadata": {},
     "output_type": "display_data"
    }
   ],
   "source": [
    "plt.plot(list_of_r,list_of_f,label=\"Total force from a Raindrop\")\n",
    "plt.plot([0,3],[0.444,0.444],label=\"$0.444N = 0.1lbf$\")\n",
    "plt.plot([0,3],[0.888,0.888],label=\"$0.888N = 0.2lbf$\")\n",
    "plt.ylabel(\"raindrop force, (N)\")\n",
    "plt.xlabel(\"raindrop radius, $r$, (mm)\")\n",
    "plt.title(\"Total force a raindrop exerts on the ground, \\nAssumptions: $1ms$ collision time, $v^2$ drag force\")\n",
    "plt.legend()\n",
    "plt.show()"
   ]
  }
 ],
 "metadata": {
  "kernelspec": {
   "display_name": "Python [conda root]",
   "language": "python",
   "name": "conda-root-py"
  },
  "language_info": {
   "codemirror_mode": {
    "name": "ipython",
    "version": 3
   },
   "file_extension": ".py",
   "mimetype": "text/x-python",
   "name": "python",
   "nbconvert_exporter": "python",
   "pygments_lexer": "ipython3",
   "version": "3.5.2"
  }
 },
 "nbformat": 4,
 "nbformat_minor": 2
}
