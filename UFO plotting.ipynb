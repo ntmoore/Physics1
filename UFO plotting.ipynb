{
 "cells": [
  {
   "cell_type": "code",
   "execution_count": null,
   "metadata": {
    "collapsed": true
   },
   "outputs": [],
   "source": [
    "from math import *\n",
    "from random import *\n",
    "import matplotlib.pyplot as plt"
   ]
  },
  {
   "cell_type": "code",
   "execution_count": null,
   "metadata": {
    "collapsed": false
   },
   "outputs": [],
   "source": [
    "# generate a list of random masses between 500 and 1000 kg\n",
    "masses=[]\n",
    "for i in range(30):\n",
    "    m=random()*500+500\n",
    "    masses.append(m)\n",
    "print(\"Masses range from \",min(masses),\" to \",max(masses), \"kg\")"
   ]
  },
  {
   "cell_type": "code",
   "execution_count": null,
   "metadata": {
    "collapsed": false
   },
   "outputs": [],
   "source": [
    "# generate possible UFO positions based on masses\n",
    "x=[]\n",
    "y=[]\n",
    "for m in masses:\n",
    "    x_pos=(1.0/m)*((m+1500)*2.0-500.0*4.0)\n",
    "    y_pos=(1.0/m)*(500.0*5.0)\n",
    "    x.append(x_pos)\n",
    "    y.append(y_pos)"
   ]
  },
  {
   "cell_type": "code",
   "execution_count": null,
   "metadata": {
    "collapsed": false
   },
   "outputs": [],
   "source": [
    "# plot the positions\n",
    "plt.plot(x,y,\"ro\",label=\"possible locations of missing piece\")\n",
    "plt.plot(4,5,\"b+\",label=\"500 kg piece\")\n",
    "plt.plot(2,-5,\"g+\",label=\"1000kg piece\")\n",
    "plt.plot(0,0,\"r+\",label=\"explosion\")\n",
    "plt.legend()\n",
    "plt.ylabel(\"distance North (km)\")\n",
    "plt.xlabel(\"distance East (km)\")\n",
    "plt.grid()\n",
    "plt.show()"
   ]
  },
  {
   "cell_type": "code",
   "execution_count": null,
   "metadata": {
    "collapsed": true
   },
   "outputs": [],
   "source": []
  }
 ],
 "metadata": {
  "kernelspec": {
   "display_name": "Python [conda root]",
   "language": "python",
   "name": "conda-root-py"
  },
  "language_info": {
   "codemirror_mode": {
    "name": "ipython",
    "version": 3
   },
   "file_extension": ".py",
   "mimetype": "text/x-python",
   "name": "python",
   "nbconvert_exporter": "python",
   "pygments_lexer": "ipython3",
   "version": "3.5.2"
  }
 },
 "nbformat": 4,
 "nbformat_minor": 2
}
