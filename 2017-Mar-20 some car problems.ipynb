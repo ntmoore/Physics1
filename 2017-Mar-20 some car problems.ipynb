{
 "cells": [
  {
   "cell_type": "markdown",
   "metadata": {},
   "source": [
    "# How fast should you drive at night?\n",
    "The first question we're talking about in class involves the fastest speed it might be safe to drive at at night.  \n",
    "\n",
    "Situation: you're driving at a speed $v0$ and you see something ahead of you that makes you panic stop.  The relevant coefficient of friction is $\\mu_s=[0.4,0.7]$ and the object is $d=106m$ (350ft) ahead of you.\n",
    "\n",
    "Human reaction time (visual) is about $t_v=0.25$ seconds.  While reacting, the car travels \n",
    "\n",
    "$x1=v0~t_v$.\n",
    "\n",
    "Then, while braking, the car travels $x2$, where we've shown algebraically that $2~a~x2={v_2}^2-{v_1}^2$.  In this specific example we have, \n",
    "\n",
    "$2~\\mu_s~g~x2=v0^2$.\n",
    "\n",
    "So now, remember that the total travel distance is $x1+x2=106$ meters.  This gives the equation:\n",
    "\n",
    "$v0~t_v+\\frac{v0^2}{2~\\mu_s~g}=106$ meters\n",
    "\n",
    "So, what velocity makes this equation true?  In the context of the problem, what is the fastest velocity that will still allow us to stop in time?  \n",
    "\n",
    "Mathematically, this is a root-finding problem.  One approach is to make a plot - when does the function on the left equal 106meters on the right?"
   ]
  },
  {
   "cell_type": "code",
   "execution_count": 13,
   "metadata": {
    "collapsed": true
   },
   "outputs": [],
   "source": [
    "# define parameters\n",
    "g=9.8\n",
    "mu_1=0.4\n",
    "mu_2=0.7\n",
    "tv=0.25\n",
    "# make two lists - one of velocities, v0 and \n",
    "# another list of the left hand side of the equation\n",
    "list_of_v0=[]\n",
    "list_of_eq_lhs_1=[]\n",
    "list_of_eq_lhs_2=[]\n",
    "# iterate over possible v0's\n",
    "for i in range(50):\n",
    "    # generate v0 from 0 to 49\n",
    "    v0 = 0+i \n",
    "    # for each v0, compute the other side of the equation\n",
    "    lhs_mu_1 = v0*tv+v0*v0/(2*mu_1*g)\n",
    "    lhs_mu_2 = v0*tv+v0*v0/(2*mu_2*g)\n",
    "    # store the data in lists to plot\n",
    "    list_of_v0.append(v0)\n",
    "    list_of_eq_lhs_1.append(lhs_mu_1)\n",
    "    list_of_eq_lhs_2.append(lhs_mu_2)"
   ]
  },
  {
   "cell_type": "code",
   "execution_count": 14,
   "metadata": {
    "collapsed": false
   },
   "outputs": [
    {
     "data": {
      "image/png": "[encoded data removed]",
      "text/plain": [
       "<matplotlib.figure.Figure at 0xdbf4bce240>"
      ]
     },
     "metadata": {},
     "output_type": "display_data"
    }
   ],
   "source": [
    "import matplotlib.pyplot as plt\n",
    "# plot the two lhs data, note that this is stoppnig distance\n",
    "plt.plot(list_of_v0,list_of_eq_lhs_1,label=\"$mu_s=0.4$\")\n",
    "plt.plot(list_of_v0,list_of_eq_lhs_2,label=\"$mu_s=0.7$\")\n",
    "# plot the problem's stopping distance\n",
    "plt.plot([0,50],[106,106],label=\"106m=350ft\")\n",
    "plt.ylabel(\"stopping distance (meters)\")\n",
    "plt.xlabel(\"intial speed (m/s)\")\n",
    "plt.grid()\n",
    "plt.legend()\n",
    "plt.show()"
   ]
  },
  {
   "cell_type": "markdown",
   "metadata": {},
   "source": [
    "With the graph, you can visually estimate where the lines intersect and solve the problem approximately.  If you need more precision than looking at graph provides, you can use a \"root-finding\" library.  This is the approach that most TI calculators take when you use them to solve an equation."
   ]
  },
  {
   "cell_type": "code",
   "execution_count": 25,
   "metadata": {
    "collapsed": true
   },
   "outputs": [],
   "source": [
    "# root-finding takes an additional library\n",
    "# using the function \"fsolve\" frim scipy.optimize\n",
    "from scipy.optimize import fsolve"
   ]
  },
  {
   "cell_type": "markdown",
   "metadata": {},
   "source": [
    "Now, the root-finding function takes an equation (as a function) as input.  It finds the input variable (v0) that makes the function zero.  This means we need to re-write the equation we're trying to solve as\n",
    "\n",
    "$v0~t_v+\\frac{v0^2}{2~\\mu_s~g} - 106~meters = 0$\n"
   ]
  },
  {
   "cell_type": "code",
   "execution_count": 26,
   "metadata": {
    "collapsed": true
   },
   "outputs": [],
   "source": [
    "# then, we need to specify the equation we want to solve\n",
    "# rewite so that it equals zero, eg\n",
    "#   v0*tv+v0*v0/(2*mu_1*g) - distance =0\n",
    "def func(v0,tv,mu,g,distance):\n",
    "    return v0*tv + v0*v0/(2*mu*g) - distance"
   ]
  },
  {
   "cell_type": "code",
   "execution_count": 33,
   "metadata": {
    "collapsed": false
   },
   "outputs": [
    {
     "name": "stdout",
     "output_type": "stream",
     "text": [
      "[ 27.86441714]\n"
     ]
    }
   ],
   "source": [
    "# then, specif parameters for the function,\n",
    "tv,mu,g,distance = 0.25,0.4,9.8,106.\n",
    "\n",
    "# and specify an initial guess for v0\n",
    "guess_v0 = [30,]    \n",
    "\n",
    "# and then run the solver\n",
    "first_v=fsolve(func,guess_v0,args=(tv,mu,g,distance)) \n",
    "print(first_v)"
   ]
  },
  {
   "cell_type": "markdown",
   "metadata": {},
   "source": [
    "So one intersection is 27.8 m/s.  Run the solver again for the other $\\mu$"
   ]
  },
  {
   "cell_type": "code",
   "execution_count": 35,
   "metadata": {
    "collapsed": false
   },
   "outputs": [
    {
     "name": "stdout",
     "output_type": "stream",
     "text": [
      "[ 36.45909102]\n"
     ]
    }
   ],
   "source": [
    "# then, specif parameters for the function,\n",
    "tv,mu,g,distance = 0.25,0.7,9.8,106.\n",
    "\n",
    "# and specify an initial guess for v0\n",
    "guess_v0 = [30,]    \n",
    "\n",
    "# and then run the solver\n",
    "second_v=fsolve(func,guess_v0,args=(tv,mu,g,distance)) \n",
    "print(second_v)"
   ]
  },
  {
   "cell_type": "markdown",
   "metadata": {},
   "source": [
    "Now, put these roots in a plot."
   ]
  },
  {
   "cell_type": "code",
   "execution_count": 46,
   "metadata": {
    "collapsed": false
   },
   "outputs": [
    {
     "data": {
      "image/png": "[encoded data removed]",
      "text/plain": [
       "<matplotlib.figure.Figure at 0xdbf630f668>"
      ]
     },
     "metadata": {},
     "output_type": "display_data"
    }
   ],
   "source": [
    "# plot the two roots\n",
    "plt.plot([first_v[0],second_v[0]],[106,106],\"ro\",\n",
    "         label=\"roots from fsolve\")\n",
    "plt.title(\"critical velocities are 36.4 m/s and 27.8 m/s \")\n",
    "# everything following is from above\n",
    "# plot the two lhs data, note that this is stoppnig distance\n",
    "plt.plot(list_of_v0,list_of_eq_lhs_1,label=\"$mu_s=0.4$\")\n",
    "plt.plot(list_of_v0,list_of_eq_lhs_2,label=\"$mu_s=0.7$\")\n",
    "# plot the problem's stopping distance\n",
    "plt.plot([0,50],[106,106],label=\"106m=350ft\")\n",
    "plt.ylabel(\"stopping distance (meters)\")\n",
    "plt.xlabel(\"intial speed (m/s)\")\n",
    "plt.grid()\n",
    "plt.legend()\n",
    "plt.show()"
   ]
  },
  {
   "cell_type": "markdown",
   "metadata": {},
   "source": [
    "# Coasting down hwy 43\n",
    "\n",
    "Also discussed in class is coasting down highway 43 from the I-90 interchange south of Winona.  Recall that the speed you achieve is limited by air resistance (drag).  The specific force balance could be modeled as:\n",
    "\n",
    "$m~g~\\sin[1.7 degrees] = \\frac{1}{2}~C_D~A~\\rho_{air}~v^2$\n",
    "\n",
    "Below, I solve this equation for $v$ and estimate a value based on numbers for a modern VW Golf. "
   ]
  },
  {
   "cell_type": "code",
   "execution_count": 55,
   "metadata": {
    "collapsed": false
   },
   "outputs": [
    {
     "name": "stdout",
     "output_type": "stream",
     "text": [
      "29.793978576556203 m/s\n",
      "66.50016018287344 mph\n"
     ]
    }
   ],
   "source": [
    "import math\n",
    "m=1360 # kg\n",
    "g=9.8 # N/kg\n",
    "A=2.3 # m^2, 71\" x 51\"\n",
    "Cd=0.32\n",
    "rho_air=1.2 # kg/m^3\n",
    "sin_theta=150/5100 # from the geography of Winona\n",
    "\n",
    "v_terminal = math.sqrt(m*g*sin_theta/(0.5*Cd*A*rho_air))\n",
    "\n",
    "print(v_terminal,\"m/s\")\n",
    "print(v_terminal*(6.2/10000)*(3600/1),\"mph\")"
   ]
  },
  {
   "cell_type": "code",
   "execution_count": null,
   "metadata": {
    "collapsed": true
   },
   "outputs": [],
   "source": []
  }
 ],
 "metadata": {
  "kernelspec": {
   "display_name": "Python [conda root]",
   "language": "python",
   "name": "conda-root-py"
  },
  "language_info": {
   "codemirror_mode": {
    "name": "ipython",
    "version": 3
   },
   "file_extension": ".py",
   "mimetype": "text/x-python",
   "name": "python",
   "nbconvert_exporter": "python",
   "pygments_lexer": "ipython3",
   "version": "3.5.2"
  }
 },
 "nbformat": 4,
 "nbformat_minor": 2
}
